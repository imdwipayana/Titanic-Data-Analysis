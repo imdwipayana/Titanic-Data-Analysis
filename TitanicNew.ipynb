{
 "cells": [
  {
   "cell_type": "markdown",
   "id": "4e233d13",
   "metadata": {},
   "source": [
    "# Titanic Data Analysis\n",
    "### Sejarah Titanic\n",
    "   Titanic merupakan salah satu kapal terbesar dan tercanggih yang pernah dibuat pada masanya. Bahkan saking canggihnya salah satu nahkoda Titanic yang merupakan seorang angkatan laut Inggris pernah sesumbar kalau kehendak Tuhanpun tidak akan bisa menenggelamkan kapal ini. Akan tetapi pada tahun 1912, saat mengarungi Samudra Atlantik dalam perjalanan dari Inggris ke Amerika, Titanic menabrak bongkahan es yang menyebabkan kapal terbelah menjadi dua dan mengakibatkan kematian sekitar 1500 dari 2224 penumpangnya. Kejadian yang mengenaskan tersebut sangat mengejutkan dunia, sehingga terbawa sampai sekarang. Pada tahun 1997 kisah Titanic diangkat ke layar lebar dengan dibintangi oleh Kate Winslet dan Leonardo Di Caprio yang membawa kesuksesan besar film tersebut dalam sejarah dunia perfilman dunia dengan menyabet 11 piala Oscar.\n",
    "   \n",
    "### Hal Penting yang terjadi\n",
    "#### Titanic merupakan kapal terbesar, tercanggih dan termewah pada jamannya, tentunya melihat hal tersebut bidikan pasar penumpang Titanic adalah orang-orang berada. Makanya pada saat kapal tersebut tenggelam, penumpangnya kebanyakan adalah orang-orang terkaya di dunia dan sisanya adalah imigran yang sedang mencari penghidupan yang lebih baik dari Eropa.\n",
    "#### Karena kecanggihannya, Titanic dilengkapi dengan kapal sekoci yang dapat dipergunakan pada saat darurat. Akan tetapi saat pelayarannya yang terakhir, Titanic hanya membawa setengah sekoci dari kapasitas yang tersedia dengan kapasitas angkut 1100an penumpang. Alasan logis kenapa ini terjadi, kemungkinan karena adanya mitos kalau Titanic adalah kapal yang tidak akan bisa tenggelam.\n",
    "#### Dua jam setelah Titanic mengalami kecelakaan, ada kapal lain yaitu RMS Carphatia yang lewat lokasi kejadian dan berhasil menyelamatkan kurang lebih 700 penumpang.\n",
    "#### Pada jaman tersebut, kalau terjadi kecelakaan, maka penyelamatan diutamakan pada wanita dan anak-anak.\n",
    "#### Titanic menabrak bongkahan es pada bagian  depan kapal sebelah kanan yang menyebabkan lubang menganga pada 5 tingkat dari 16 tingkat, sehingga air dapat masuk dari lubang tersebut.\n",
    "#### Sebelum berangkat ke New York, Amerika, Titanic menyinggahi 3 pelabuhan yaitu Southampton (Inggris), Cherbourg (Perancis) dan Queenstown (Irlandia)\n",
    "\n",
    "# Big Question here: Bisakah kita menebak apakah seseorang akan selamat atau tidak berdasarkan data penumpang Titanic saat tenggelam?"
   ]
  },
  {
   "cell_type": "code",
   "execution_count": null,
   "id": "4686cda4",
   "metadata": {},
   "outputs": [],
   "source": [
    "import pandas as pd\n",
    "import numpy as np\n",
    "import seaborn as sns\n",
    "import matplotlib.pyplot as plt\n",
    "%matplotlib inline\n",
    "\n",
    "sns.set()"
   ]
  },
  {
   "cell_type": "code",
   "execution_count": null,
   "id": "019b102e",
   "metadata": {},
   "outputs": [],
   "source": [
    "data_latih = pd.read_csv('https://raw.githubusercontent.com/imdwipayana/DATA/main/Data%20Titanic/train.csv')\n",
    "data_uji = pd.read_csv('https://raw.githubusercontent.com/imdwipayana/DATA/main/Data%20Titanic/test.csv')"
   ]
  },
  {
   "cell_type": "code",
   "execution_count": null,
   "id": "25594aa7",
   "metadata": {},
   "outputs": [],
   "source": [
    "data_latih.head()"
   ]
  },
  {
   "cell_type": "code",
   "execution_count": null,
   "id": "41cda296",
   "metadata": {},
   "outputs": [],
   "source": [
    "data_uji.head()"
   ]
  },
  {
   "cell_type": "code",
   "execution_count": null,
   "id": "0b542264",
   "metadata": {},
   "outputs": [],
   "source": [
    "data_latih.shape"
   ]
  },
  {
   "cell_type": "code",
   "execution_count": null,
   "id": "6f81bc76",
   "metadata": {},
   "outputs": [],
   "source": [
    "data_uji.shape"
   ]
  },
  {
   "cell_type": "code",
   "execution_count": null,
   "id": "4e76c3be",
   "metadata": {},
   "outputs": [],
   "source": [
    "data_latih.info()"
   ]
  },
  {
   "cell_type": "code",
   "execution_count": null,
   "id": "4fdcf048",
   "metadata": {},
   "outputs": [],
   "source": [
    "data_uji.info()"
   ]
  },
  {
   "cell_type": "code",
   "execution_count": null,
   "id": "ba794605",
   "metadata": {},
   "outputs": [],
   "source": [
    "data_latih.isnull().sum()"
   ]
  },
  {
   "cell_type": "code",
   "execution_count": null,
   "id": "cf9c051a",
   "metadata": {},
   "outputs": [],
   "source": [
    "data_uji.isnull().sum()"
   ]
  },
  {
   "cell_type": "code",
   "execution_count": null,
   "id": "cda0e05e",
   "metadata": {},
   "outputs": [],
   "source": [
    "sns.heatmap(data_latih.isnull(),yticklabels=False,cbar=False,cmap='viridis')"
   ]
  },
  {
   "cell_type": "code",
   "execution_count": null,
   "id": "838134f4",
   "metadata": {},
   "outputs": [],
   "source": [
    "sns.heatmap(data_uji.isnull(),yticklabels=False,cbar=False,cmap='viridis')"
   ]
  },
  {
   "cell_type": "code",
   "execution_count": null,
   "id": "a694250a",
   "metadata": {},
   "outputs": [],
   "source": [
    "plt.figure(figsize=(12, 7))\n",
    "sns.boxplot(x='Pclass',y='Age',data=data_latih,palette='winter')"
   ]
  },
  {
   "cell_type": "code",
   "execution_count": null,
   "id": "8d07b267",
   "metadata": {},
   "outputs": [],
   "source": [
    "def histogram(kolom_data):\n",
    "    hidup = data_latih[data_latih['Survived']==1][kolom_data].value_counts()\n",
    "    mati = data_latih[data_latih['Survived']==0][kolom_data].value_counts()\n",
    "    df = pd.DataFrame([hidup,mati])\n",
    "    df.index = ['Hidup','Mati']\n",
    "    df.plot(kind='bar',stacked=True,figsize=(10,5))"
   ]
  },
  {
   "cell_type": "code",
   "execution_count": null,
   "id": "9d9991a0",
   "metadata": {},
   "outputs": [],
   "source": [
    "histogram('Sex')"
   ]
  },
  {
   "cell_type": "code",
   "execution_count": null,
   "id": "1db2f070",
   "metadata": {},
   "outputs": [],
   "source": [
    "histogram('Pclass')"
   ]
  },
  {
   "cell_type": "code",
   "execution_count": null,
   "id": "9779e0de",
   "metadata": {},
   "outputs": [],
   "source": [
    "histogram('SibSp')"
   ]
  },
  {
   "cell_type": "code",
   "execution_count": null,
   "id": "5679e142",
   "metadata": {},
   "outputs": [],
   "source": [
    "histogram('Parch')"
   ]
  },
  {
   "cell_type": "code",
   "execution_count": null,
   "id": "6263bbf4",
   "metadata": {},
   "outputs": [],
   "source": [
    "histogram('Embarked')"
   ]
  },
  {
   "cell_type": "code",
   "execution_count": null,
   "id": "e37a795d",
   "metadata": {},
   "outputs": [],
   "source": [
    "data_gabung = [data_latih, data_uji]\n",
    "\n",
    "for data in data_gabung:\n",
    "    data['Title'] = data['Name'].str.extract(' ([A-Za-z]+)\\.', expand=False)"
   ]
  },
  {
   "cell_type": "code",
   "execution_count": null,
   "id": "7902746d",
   "metadata": {},
   "outputs": [],
   "source": [
    "data_latih['Title'].value_counts()"
   ]
  },
  {
   "cell_type": "code",
   "execution_count": null,
   "id": "cd102284",
   "metadata": {},
   "outputs": [],
   "source": [
    "data_uji['Title'].value_counts()"
   ]
  },
  {
   "cell_type": "code",
   "execution_count": null,
   "id": "dad50d86",
   "metadata": {},
   "outputs": [],
   "source": [
    "gelar = {'Mr': 0, 'Miss': 1, 'Mrs': 2,\n",
    "         'Master': 3, 'Dr': 3, 'Rev': 3, 'Col': 3, 'Major': 3, 'Mlle': 3, 'Countess': 3,\n",
    "         'Ms': 3, 'Lady': 3, 'Jonkheer': 3, 'Don': 3, 'Dona': 3, 'Mme': 3, 'Capt': 3, 'Sir': 3}\n",
    "for data in data_gabung:\n",
    "    data['Title'] = data['Title'].map(gelar)"
   ]
  },
  {
   "cell_type": "code",
   "execution_count": null,
   "id": "1b01c403",
   "metadata": {},
   "outputs": [],
   "source": [
    "data_latih.head()"
   ]
  },
  {
   "cell_type": "code",
   "execution_count": null,
   "id": "e15e080b",
   "metadata": {},
   "outputs": [],
   "source": [
    "data_uji.head()"
   ]
  },
  {
   "cell_type": "code",
   "execution_count": null,
   "id": "ba8eea83",
   "metadata": {},
   "outputs": [],
   "source": [
    "histogram('Title')"
   ]
  },
  {
   "cell_type": "code",
   "execution_count": null,
   "id": "15c00e45",
   "metadata": {},
   "outputs": [],
   "source": [
    "gender = {'male': 0, 'female': 1}\n",
    "\n",
    "for data in data_gabung:\n",
    "    data['Sex'] = data['Sex'].map(gender)"
   ]
  },
  {
   "cell_type": "code",
   "execution_count": null,
   "id": "2817a89e",
   "metadata": {},
   "outputs": [],
   "source": [
    "histogram('Sex')"
   ]
  },
  {
   "cell_type": "code",
   "execution_count": null,
   "id": "486e2609",
   "metadata": {},
   "outputs": [],
   "source": [
    "# Age\n",
    "# Data pada kolom 'Age' ada yang kosong, untuk itu kita isi data yang kosong dengan median dari 'Title'\n",
    "data_latih['Age'].fillna(data_latih.groupby('Title')['Age'].transform('median'), inplace=True)\n",
    "data_uji['Age'].fillna(data_uji.groupby('Title')['Age'].transform('median'), inplace=True)"
   ]
  },
  {
   "cell_type": "code",
   "execution_count": null,
   "id": "5c42bcbd",
   "metadata": {},
   "outputs": [],
   "source": [
    "gambar = sns.FacetGrid(data_latih, hue='Survived',aspect=4)\n",
    "gambar.map(sns.kdeplot,'Age', shade=True)\n",
    "gambar.set(xlim=(0,data_latih['Age'].max()))\n",
    "gambar.add_legend()\n",
    "\n",
    "plt.show()"
   ]
  },
  {
   "cell_type": "code",
   "execution_count": null,
   "id": "64a97b59",
   "metadata": {},
   "outputs": [],
   "source": [
    "gambar = sns.FacetGrid(data_latih, hue='Survived',aspect=4)\n",
    "gambar.map(sns.kdeplot,'Age', shade=True)\n",
    "gambar.set(xlim=(0,data_latih['Age'].max()))\n",
    "gambar.add_legend()\n",
    "plt.xlim(10,20)"
   ]
  },
  {
   "cell_type": "code",
   "execution_count": null,
   "id": "c7d5232f",
   "metadata": {},
   "outputs": [],
   "source": [
    "gambar = sns.FacetGrid(data_latih, hue='Survived',aspect=4)\n",
    "gambar.map(sns.kdeplot,'Age', shade=True)\n",
    "gambar.set(xlim=(0,data_latih['Age'].max()))\n",
    "gambar.add_legend()\n",
    "plt.xlim(30,40)"
   ]
  },
  {
   "cell_type": "code",
   "execution_count": null,
   "id": "1b57e5cb",
   "metadata": {},
   "outputs": [],
   "source": [
    "gambar = sns.FacetGrid(data_latih, hue='Survived',aspect=4)\n",
    "gambar.map(sns.kdeplot,'Age', shade=True)\n",
    "gambar.set(xlim=(0,data_latih['Age'].max()))\n",
    "gambar.add_legend()\n",
    "plt.xlim(40,50)"
   ]
  },
  {
   "cell_type": "code",
   "execution_count": null,
   "id": "2535d2f2",
   "metadata": {},
   "outputs": [],
   "source": [
    "gambar = sns.FacetGrid(data_latih, hue='Survived',aspect=4)\n",
    "gambar.map(sns.kdeplot,'Age', shade=True)\n",
    "gambar.set(xlim=(0,data_latih['Age'].max()))\n",
    "gambar.add_legend()\n",
    "plt.xlim(55,65)"
   ]
  },
  {
   "cell_type": "code",
   "execution_count": null,
   "id": "3ea96c76",
   "metadata": {},
   "outputs": [],
   "source": [
    "for data in data_gabung:\n",
    "    data.loc[ data['Age'] <= 18, 'Age'] = 0\n",
    "    data.loc[(data['Age'] > 18) & (data['Age'] <= 35), 'Age'] = 1\n",
    "    data.loc[(data['Age'] > 35) & (data['Age'] <= 46), 'Age'] = 2\n",
    "    data.loc[(data['Age'] > 46) & (data['Age'] <= 59), 'Age'] = 3\n",
    "    data.loc[ data['Age'] > 59, 'Age'] = 4"
   ]
  },
  {
   "cell_type": "code",
   "execution_count": null,
   "id": "b1d0c668",
   "metadata": {},
   "outputs": [],
   "source": [
    "data_latih.head()"
   ]
  },
  {
   "cell_type": "code",
   "execution_count": null,
   "id": "aac2c6cb",
   "metadata": {},
   "outputs": [],
   "source": [
    "histogram('Age')"
   ]
  },
  {
   "cell_type": "code",
   "execution_count": null,
   "id": "9961f33a",
   "metadata": {},
   "outputs": [],
   "source": [
    " #Embarked"
   ]
  },
  {
   "cell_type": "code",
   "execution_count": null,
   "id": "e1885d8e",
   "metadata": {},
   "outputs": [],
   "source": [
    "Pclass1 = data_latih[data_latih['Pclass']==1]['Embarked'].value_counts()\n",
    "Pclass2 = data_latih[data_latih['Pclass']==2]['Embarked'].value_counts()\n",
    "Pclass3 = data_latih[data_latih['Pclass']==3]['Embarked'].value_counts()\n",
    "df = pd.DataFrame([Pclass1, Pclass2, Pclass3])\n",
    "df.index =['Kelas I', 'Kelas II', 'Kelas III']\n",
    "df.plot(kind='bar',stacked=True, figsize=(10,5))"
   ]
  },
  {
   "cell_type": "code",
   "execution_count": null,
   "id": "27018665",
   "metadata": {},
   "outputs": [],
   "source": [
    "embarked = {'S':0, 'C':1, 'Q':2}\n",
    "for data in data_gabung:\n",
    "    data['Embarked']=data['Embarked'].map(embarked)"
   ]
  },
  {
   "cell_type": "code",
   "execution_count": null,
   "id": "d4c08ee5",
   "metadata": {},
   "outputs": [],
   "source": [
    "data_latih['Embarked'].fillna(data_latih.groupby('Pclass')['Embarked'].transform('median'),inplace=True)\n",
    "data_uji['Embarked'].fillna(data_uji.groupby('Pclass')['Embarked'].transform('median'),inplace=True)"
   ]
  },
  {
   "cell_type": "code",
   "execution_count": null,
   "id": "c966fae1",
   "metadata": {},
   "outputs": [],
   "source": [
    "#Fare"
   ]
  },
  {
   "cell_type": "code",
   "execution_count": null,
   "id": "21352148",
   "metadata": {},
   "outputs": [],
   "source": [
    "data_latih['Fare'].fillna(data_latih.groupby('Pclass')['Fare'].transform('median'),inplace=True)\n",
    "data_uji['Fare'].fillna(data_uji.groupby('Pclass')['Fare'].transform('median'),inplace=True)"
   ]
  },
  {
   "cell_type": "code",
   "execution_count": null,
   "id": "6d334966",
   "metadata": {},
   "outputs": [],
   "source": [
    "gambar = sns.FacetGrid(data_latih,hue='Survived',aspect=4)\n",
    "gambar.map(sns.kdeplot,'Fare',shade=True)\n",
    "gambar.set(xlim=(0,data_latih['Fare'].max()))\n",
    "gambar.add_legend()\n",
    "\n",
    "plt.show()"
   ]
  },
  {
   "cell_type": "code",
   "execution_count": null,
   "id": "58fb0141",
   "metadata": {},
   "outputs": [],
   "source": [
    "gambar = sns.FacetGrid(data_latih,hue='Survived',aspect=4)\n",
    "gambar.map(sns.kdeplot,'Fare',shade=True)\n",
    "gambar.set(xlim=(0,data_latih['Fare'].max()))\n",
    "gambar.add_legend()\n",
    "plt.xlim(0,40)"
   ]
  },
  {
   "cell_type": "code",
   "execution_count": null,
   "id": "955c9622",
   "metadata": {},
   "outputs": [],
   "source": [
    "for data in data_gabung:\n",
    "    data.loc[ data['Fare'] <= 30, 'Fare'] = 0\n",
    "    data.loc[(data['Fare'] > 30) & (data['Fare'] <= 45), 'Fare'] = 1\n",
    "    data.loc[(data['Fare'] > 45) & (data['Fare'] <= 60), 'Fare'] = 2\n",
    "    data.loc[ data['Fare'] > 60, 'Fare'] = 3"
   ]
  },
  {
   "cell_type": "code",
   "execution_count": null,
   "id": "b19c9fd0",
   "metadata": {},
   "outputs": [],
   "source": [
    "data_latih.head()"
   ]
  },
  {
   "cell_type": "code",
   "execution_count": null,
   "id": "780453c2",
   "metadata": {},
   "outputs": [],
   "source": [
    "# Cabin"
   ]
  },
  {
   "cell_type": "code",
   "execution_count": null,
   "id": "ffd57453",
   "metadata": {},
   "outputs": [],
   "source": [
    "data_latih.Cabin.value_counts()"
   ]
  },
  {
   "cell_type": "code",
   "execution_count": null,
   "id": "c513f028",
   "metadata": {},
   "outputs": [],
   "source": [
    "for data in data_gabung:\n",
    "    data['Cabin'] = data['Cabin'].str[:1]"
   ]
  },
  {
   "cell_type": "code",
   "execution_count": null,
   "id": "67884603",
   "metadata": {},
   "outputs": [],
   "source": [
    "data_latih.head()"
   ]
  },
  {
   "cell_type": "code",
   "execution_count": null,
   "id": "47f1d9f3",
   "metadata": {},
   "outputs": [],
   "source": [
    "Pclass1 = data_latih[data_latih['Pclass']==1]['Cabin'].value_counts()\n",
    "Pclass2 = data_latih[data_latih['Pclass']==2]['Cabin'].value_counts()\n",
    "Pclass3 = data_latih[data_latih['Pclass']==3]['Cabin'].value_counts()\n",
    "df = pd.DataFrame([Pclass1, Pclass2, Pclass3])\n",
    "df.index =['Kelas I', 'Kelas II', 'Kelas III']\n",
    "df.plot(kind='bar',stacked=True, figsize=(10,5))"
   ]
  },
  {
   "cell_type": "code",
   "execution_count": null,
   "id": "8421f1ba",
   "metadata": {},
   "outputs": [],
   "source": [
    "cabin = {'A':0, 'B':0.4, 'C':0.8, 'D':1.2, 'E':1.6, 'F':2, 'G':2.4, 'T':2.8}\n",
    "for data in data_gabung:\n",
    "    data['Cabin'] = data['Cabin'].map(cabin)"
   ]
  },
  {
   "cell_type": "code",
   "execution_count": null,
   "id": "fa334de3",
   "metadata": {},
   "outputs": [],
   "source": [
    "data_latih['Cabin'].fillna(data_latih.groupby('Pclass')['Cabin'].transform('median'),inplace=True)\n",
    "data_uji['Cabin'].fillna(data_uji.groupby('Pclass')['Cabin'].transform('median'), inplace=True)"
   ]
  },
  {
   "cell_type": "code",
   "execution_count": null,
   "id": "4ef03793",
   "metadata": {},
   "outputs": [],
   "source": [
    "#Family Size"
   ]
  },
  {
   "cell_type": "code",
   "execution_count": null,
   "id": "29026447",
   "metadata": {},
   "outputs": [],
   "source": [
    "data_latih['AnggotaKeluarga'] = data_latih['SibSp'] + data_latih['Parch'] + 1\n",
    "data_uji['AnggotaKeluarga'] = data_uji['SibSp'] + data_uji['Parch'] + 1"
   ]
  },
  {
   "cell_type": "code",
   "execution_count": null,
   "id": "bf912745",
   "metadata": {},
   "outputs": [],
   "source": [
    "gambar = sns.FacetGrid(data_latih, hue='Survived',aspect=4)\n",
    "gambar.map(sns.kdeplot,'AnggotaKeluarga',shade=True)\n",
    "gambar.set(xlim=(0,data_latih['AnggotaKeluarga'].max()))\n",
    "gambar.add_legend()\n",
    "plt.xlim(0)"
   ]
  },
  {
   "cell_type": "code",
   "execution_count": null,
   "id": "345e1713",
   "metadata": {},
   "outputs": [],
   "source": [
    "anggota_keluarga = {1:0, 2:0.4,3:0.8, 4:1.2, 5:1.6, 6:2, 7:2.4, 8:2.8, 9:3.2, 10:3.6, 11:4}\n",
    "for data in data_gabung:\n",
    "    data['AnggotaKeluarga'] = data['AnggotaKeluarga'].map(anggota_keluarga)"
   ]
  },
  {
   "cell_type": "code",
   "execution_count": null,
   "id": "34d2b627",
   "metadata": {},
   "outputs": [],
   "source": [
    "data_latih.head()"
   ]
  },
  {
   "cell_type": "code",
   "execution_count": null,
   "id": "3fadc755",
   "metadata": {},
   "outputs": [],
   "source": [
    "data_latih = data_latih.drop(['Ticket', 'SibSp','Parch'], axis=1)\n",
    "data_uji = data_uji.drop(['Ticket', 'SibSp','Parch'], axis=1)\n",
    "data_latih = data_latih.drop(['PassengerId'],axis=1)"
   ]
  },
  {
   "cell_type": "code",
   "execution_count": null,
   "id": "541c3ce2",
   "metadata": {},
   "outputs": [],
   "source": [
    "data_latih.drop('Name', axis=1, inplace=True)\n",
    "data_uji.drop('Name',axis=1,inplace=True)"
   ]
  },
  {
   "cell_type": "code",
   "execution_count": null,
   "id": "5c998ce3",
   "metadata": {},
   "outputs": [],
   "source": [
    "data_fix_dilatih = data_latih.drop('Survived', axis=1)\n",
    "target = data_latih['Survived']"
   ]
  },
  {
   "cell_type": "code",
   "execution_count": null,
   "id": "036cb133",
   "metadata": {},
   "outputs": [],
   "source": [
    "data_fix_dilatih.head()"
   ]
  },
  {
   "cell_type": "code",
   "execution_count": null,
   "id": "b9f274e0",
   "metadata": {},
   "outputs": [],
   "source": [
    "data_fix_dilatih.isnull().sum()"
   ]
  },
  {
   "cell_type": "code",
   "execution_count": null,
   "id": "4bbd41a4",
   "metadata": {},
   "outputs": [],
   "source": [
    "data_uji.isnull().sum()"
   ]
  },
  {
   "cell_type": "code",
   "execution_count": null,
   "id": "1303c58b",
   "metadata": {},
   "outputs": [],
   "source": [
    "sns.heatmap(data_fix_dilatih.isnull(),yticklabels=False,cbar=False,cmap='viridis')"
   ]
  },
  {
   "cell_type": "code",
   "execution_count": null,
   "id": "9af4e055",
   "metadata": {},
   "outputs": [],
   "source": [
    "target.isnull().sum()"
   ]
  },
  {
   "cell_type": "code",
   "execution_count": null,
   "id": "8dade4fa",
   "metadata": {},
   "outputs": [],
   "source": [
    "sns.heatmap(data_uji.isnull(),yticklabels=False,cbar=False,cmap='viridis')"
   ]
  },
  {
   "cell_type": "code",
   "execution_count": null,
   "id": "504e1211",
   "metadata": {},
   "outputs": [],
   "source": [
    "from sklearn.svm import SVC"
   ]
  },
  {
   "cell_type": "code",
   "execution_count": null,
   "id": "f24010ad",
   "metadata": {},
   "outputs": [],
   "source": [
    "from sklearn.model_selection import KFold\n",
    "from sklearn.model_selection import cross_val_score\n",
    "k_fold = KFold(n_splits=10, shuffle=True, random_state=0)"
   ]
  },
  {
   "cell_type": "code",
   "execution_count": null,
   "id": "9631c5c3",
   "metadata": {},
   "outputs": [],
   "source": [
    "model = SVC()\n",
    "score = cross_val_score(model,data_fix_dilatih,target,cv=k_fold,n_jobs=1,scoring='accuracy')\n",
    "print(score)"
   ]
  },
  {
   "cell_type": "code",
   "execution_count": null,
   "id": "065d179e",
   "metadata": {},
   "outputs": [],
   "source": [
    "score.mean()*100"
   ]
  },
  {
   "cell_type": "code",
   "execution_count": null,
   "id": "40552421",
   "metadata": {},
   "outputs": [],
   "source": [
    "# Testing"
   ]
  },
  {
   "cell_type": "code",
   "execution_count": null,
   "id": "f5f18460",
   "metadata": {},
   "outputs": [],
   "source": [
    "model = SVC()\n",
    "model.fit(data_fix_dilatih,target)\n",
    "test_data = data_uji.drop('PassengerId',axis=1).copy()\n",
    "prediction = model.predict(test_data)"
   ]
  },
  {
   "cell_type": "code",
   "execution_count": null,
   "id": "156ad68d",
   "metadata": {},
   "outputs": [],
   "source": [
    "submission = pd.DataFrame({\n",
    "    'PassengerId': data_uji['PassengerId'],\n",
    "    'Survived': prediction\n",
    "})\n",
    "submission.to_csv('submission.csv',index=False)"
   ]
  },
  {
   "cell_type": "code",
   "execution_count": null,
   "id": "a978dc6d",
   "metadata": {},
   "outputs": [],
   "source": [
    "submission = pd.read_csv('submission.csv')\n",
    "submission.head()"
   ]
  },
  {
   "cell_type": "code",
   "execution_count": null,
   "id": "1cc668ed",
   "metadata": {},
   "outputs": [],
   "source": [
    "data_fix_dilatih.head()"
   ]
  },
  {
   "cell_type": "markdown",
   "id": "531409d2",
   "metadata": {},
   "source": [
    "1. Pclass = Kelas Penumpang [1,2,3]\n",
    "2. Sex = Jenis Kelamin [Perempuan=1, Laki-laki=0]\n",
    "3. Age = Umur [<18 = 0, 18-35=1,35-46=2, 46-59=3, >59 = 4]\n",
    "4. Fare = Harga Tiket [<=30 = 0, 30-45 = 1, 45-60 = 2, >60 = 3]\n",
    "5. Cabin = Ruangan [A=0, B=0.4, C=0.8, D=1.2, E=1.6, F=2.0, G=2.4, T=2.8]\n",
    "6. Embarked = Pelabuhan Keberangkatan [S=0, C=1, Q=2]\n",
    "7. Title = Gelar [{'Mr': 0, 'Miss': 1, 'Mrs': 2,\n",
    "         'Master': 3, 'Dr': 3, 'Rev': 3, 'Col': 3, 'Major': 3, 'Mlle': 3, 'Countess': 3,\n",
    "         'Ms': 3, 'Lady': 3, 'Jonkheer': 3, 'Don': 3, 'Dona': 3, 'Mme': 3, 'Capt': 3, 'Sir': 3}]\n",
    "8. AnggotaKeluarha = Jumlah anggota keluarga [1=0, 2=0.4, 3=0.8, 4=1.2, 5=1.6, 6=2.0, 7=2.4, 8=2.8, 9=3.2, 10=3.6, 11=4.0]"
   ]
  },
  {
   "cell_type": "code",
   "execution_count": null,
   "id": "a402342e",
   "metadata": {},
   "outputs": [],
   "source": [
    "data_saya = [[1,1,2,3, 0, 0, 0,1.2]]\n",
    "\n",
    "prediksi = model.predict(data_saya)\n",
    "print(prediksi)\n",
    "\n",
    "if prediksi == 0:\n",
    "    print(\"Hiks, Turut Berdukacita\")\n",
    "else:\n",
    "    print('Yey.. Kamu masih hidup!!')"
   ]
  },
  {
   "cell_type": "code",
   "execution_count": null,
   "id": "278d7582",
   "metadata": {},
   "outputs": [],
   "source": []
  }
 ],
 "metadata": {
  "kernelspec": {
   "display_name": "Python 3 (ipykernel)",
   "language": "python",
   "name": "python3"
  },
  "language_info": {
   "codemirror_mode": {
    "name": "ipython",
    "version": 3
   },
   "file_extension": ".py",
   "mimetype": "text/x-python",
   "name": "python",
   "nbconvert_exporter": "python",
   "pygments_lexer": "ipython3",
   "version": "3.9.7"
  }
 },
 "nbformat": 4,
 "nbformat_minor": 5
}
